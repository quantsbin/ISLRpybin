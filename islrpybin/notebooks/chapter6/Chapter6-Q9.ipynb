{
 "cells": [
  {
   "cell_type": "markdown",
   "metadata": {},
   "source": [
    "## <span style=\"color:#000066\"> Question 9: College Dataset </span> "
   ]
  },
  {
   "cell_type": "markdown",
   "metadata": {},
   "source": [
    "In this exercise, we will use College dataset, and understand the mechanics of Ridge, lasso PCR and PLS.<br>\n",
    "\n",
    "Assumption: Reader has basic understanding of python and statistics.\n",
    "\n",
    "*Suggestion: This tutorial should be read in conjunction with Chapter6 of ISLR*"
   ]
  },
  {
   "cell_type": "markdown",
   "metadata": {},
   "source": [
    "#### Importing all dependencies from module"
   ]
  },
  {
   "cell_type": "code",
   "execution_count": 68,
   "metadata": {},
   "outputs": [],
   "source": [
    "from chapter6_imports import *"
   ]
  },
  {
   "cell_type": "markdown",
   "metadata": {},
   "source": [
    "### Description"
   ]
  },
  {
   "cell_type": "markdown",
   "metadata": {},
   "source": [
    "In this exercise we will be exploring **college dataset** which contains  information for 777 different universities and colleges in US. "
   ]
  },
  {
   "cell_type": "markdown",
   "metadata": {},
   "source": [
    "<a>\n",
    "    \n",
    "- Description: Statistics for a large number of US Colleges from the 1995 issue of US News and World Report.\n",
    "    \n",
    "- Usage: College - U.S. News and World Report’s College Data\n",
    "    \n",
    "- Format: A data frame with 777 observations on the following 18 variables.\n",
    "    - __*Apps:*__ Number of applications received\n",
    "    - __*Accept:*__ Number of applications accepted\n",
    "    - __*Enroll:*__ Number of new students enrolled\n",
    "    - __*Top10perc Pct.:*__ new students from top 10% of H.S. class\n",
    "    - __*Top25perc Pct.:*__ new students from top 25% of H.S. class\n",
    "    - __*F.Undergrad:*__ Number of fulltime undergraduates\n",
    "    - __*Undergrad:*__ Number of parttime undergraduates\n",
    "    - __*Outstate:*__ Out-of-state tuition\n",
    "    - __*Room.Board:*__ Room and board costs\n",
    "    - __*Books:*__ Estimated book costs\n",
    "    - __*Personal:*__ Estimated personal spending\n",
    "    - __*PhD:*__ Pct. of faculty with Ph.D.’s\n",
    "    - __*Terminal:*__ Pct. of faculty with terminal degree\n",
    "    - __*S.F.Ratio:*__ Student/faculty ratio\n",
    "    - __*perc.alumni:*__ Pct. alumni who donate\n",
    "    - __*Expend:*__ Instructional expenditure per student\n",
    "    - __*Grad.Rate:*__ Graduation rate\n",
    "</a>\n",
    "\n",
    "__*Source-*__\n",
    "This dataset was taken from the StatLib library which is maintained at Carnegie Mellon University.\n",
    "The dataset was used in the ASA Statistical Graphics Section’s 1995 Data Analysis Exposition."
   ]
  },
  {
   "cell_type": "code",
   "execution_count": 69,
   "metadata": {},
   "outputs": [
    {
     "data": {
      "text/html": [
       "<div>\n",
       "<style scoped>\n",
       "    .dataframe tbody tr th:only-of-type {\n",
       "        vertical-align: middle;\n",
       "    }\n",
       "\n",
       "    .dataframe tbody tr th {\n",
       "        vertical-align: top;\n",
       "    }\n",
       "\n",
       "    .dataframe thead th {\n",
       "        text-align: right;\n",
       "    }\n",
       "</style>\n",
       "<table border=\"1\" class=\"dataframe\">\n",
       "  <thead>\n",
       "    <tr style=\"text-align: right;\">\n",
       "      <th></th>\n",
       "      <th>Unnamed: 0</th>\n",
       "      <th>Private</th>\n",
       "      <th>Apps</th>\n",
       "      <th>Accept</th>\n",
       "      <th>Enroll</th>\n",
       "      <th>Top10perc</th>\n",
       "      <th>Top25perc</th>\n",
       "      <th>F.Undergrad</th>\n",
       "      <th>P.Undergrad</th>\n",
       "      <th>Outstate</th>\n",
       "      <th>Room.Board</th>\n",
       "      <th>Books</th>\n",
       "      <th>Personal</th>\n",
       "      <th>PhD</th>\n",
       "      <th>Terminal</th>\n",
       "      <th>S.F.Ratio</th>\n",
       "      <th>perc.alumni</th>\n",
       "      <th>Expend</th>\n",
       "      <th>Grad.Rate</th>\n",
       "    </tr>\n",
       "  </thead>\n",
       "  <tbody>\n",
       "    <tr>\n",
       "      <th>0</th>\n",
       "      <td>Abilene Christian University</td>\n",
       "      <td>Yes</td>\n",
       "      <td>1660</td>\n",
       "      <td>1232</td>\n",
       "      <td>721</td>\n",
       "      <td>23</td>\n",
       "      <td>52</td>\n",
       "      <td>2885</td>\n",
       "      <td>537</td>\n",
       "      <td>7440</td>\n",
       "      <td>3300</td>\n",
       "      <td>450</td>\n",
       "      <td>2200</td>\n",
       "      <td>70</td>\n",
       "      <td>78</td>\n",
       "      <td>18.1</td>\n",
       "      <td>12</td>\n",
       "      <td>7041</td>\n",
       "      <td>60</td>\n",
       "    </tr>\n",
       "    <tr>\n",
       "      <th>1</th>\n",
       "      <td>Adelphi University</td>\n",
       "      <td>Yes</td>\n",
       "      <td>2186</td>\n",
       "      <td>1924</td>\n",
       "      <td>512</td>\n",
       "      <td>16</td>\n",
       "      <td>29</td>\n",
       "      <td>2683</td>\n",
       "      <td>1227</td>\n",
       "      <td>12280</td>\n",
       "      <td>6450</td>\n",
       "      <td>750</td>\n",
       "      <td>1500</td>\n",
       "      <td>29</td>\n",
       "      <td>30</td>\n",
       "      <td>12.2</td>\n",
       "      <td>16</td>\n",
       "      <td>10527</td>\n",
       "      <td>56</td>\n",
       "    </tr>\n",
       "    <tr>\n",
       "      <th>2</th>\n",
       "      <td>Adrian College</td>\n",
       "      <td>Yes</td>\n",
       "      <td>1428</td>\n",
       "      <td>1097</td>\n",
       "      <td>336</td>\n",
       "      <td>22</td>\n",
       "      <td>50</td>\n",
       "      <td>1036</td>\n",
       "      <td>99</td>\n",
       "      <td>11250</td>\n",
       "      <td>3750</td>\n",
       "      <td>400</td>\n",
       "      <td>1165</td>\n",
       "      <td>53</td>\n",
       "      <td>66</td>\n",
       "      <td>12.9</td>\n",
       "      <td>30</td>\n",
       "      <td>8735</td>\n",
       "      <td>54</td>\n",
       "    </tr>\n",
       "    <tr>\n",
       "      <th>3</th>\n",
       "      <td>Agnes Scott College</td>\n",
       "      <td>Yes</td>\n",
       "      <td>417</td>\n",
       "      <td>349</td>\n",
       "      <td>137</td>\n",
       "      <td>60</td>\n",
       "      <td>89</td>\n",
       "      <td>510</td>\n",
       "      <td>63</td>\n",
       "      <td>12960</td>\n",
       "      <td>5450</td>\n",
       "      <td>450</td>\n",
       "      <td>875</td>\n",
       "      <td>92</td>\n",
       "      <td>97</td>\n",
       "      <td>7.7</td>\n",
       "      <td>37</td>\n",
       "      <td>19016</td>\n",
       "      <td>59</td>\n",
       "    </tr>\n",
       "    <tr>\n",
       "      <th>4</th>\n",
       "      <td>Alaska Pacific University</td>\n",
       "      <td>Yes</td>\n",
       "      <td>193</td>\n",
       "      <td>146</td>\n",
       "      <td>55</td>\n",
       "      <td>16</td>\n",
       "      <td>44</td>\n",
       "      <td>249</td>\n",
       "      <td>869</td>\n",
       "      <td>7560</td>\n",
       "      <td>4120</td>\n",
       "      <td>800</td>\n",
       "      <td>1500</td>\n",
       "      <td>76</td>\n",
       "      <td>72</td>\n",
       "      <td>11.9</td>\n",
       "      <td>2</td>\n",
       "      <td>10922</td>\n",
       "      <td>15</td>\n",
       "    </tr>\n",
       "  </tbody>\n",
       "</table>\n",
       "</div>"
      ],
      "text/plain": [
       "                     Unnamed: 0 Private  Apps  Accept  Enroll  Top10perc  \\\n",
       "0  Abilene Christian University     Yes  1660    1232     721         23   \n",
       "1            Adelphi University     Yes  2186    1924     512         16   \n",
       "2                Adrian College     Yes  1428    1097     336         22   \n",
       "3           Agnes Scott College     Yes   417     349     137         60   \n",
       "4     Alaska Pacific University     Yes   193     146      55         16   \n",
       "\n",
       "   Top25perc  F.Undergrad  P.Undergrad  Outstate  Room.Board  Books  Personal  \\\n",
       "0         52         2885          537      7440        3300    450      2200   \n",
       "1         29         2683         1227     12280        6450    750      1500   \n",
       "2         50         1036           99     11250        3750    400      1165   \n",
       "3         89          510           63     12960        5450    450       875   \n",
       "4         44          249          869      7560        4120    800      1500   \n",
       "\n",
       "   PhD  Terminal  S.F.Ratio  perc.alumni  Expend  Grad.Rate  \n",
       "0   70        78       18.1           12    7041         60  \n",
       "1   29        30       12.2           16   10527         56  \n",
       "2   53        66       12.9           30    8735         54  \n",
       "3   92        97        7.7           37   19016         59  \n",
       "4   76        72       11.9            2   10922         15  "
      ]
     },
     "execution_count": 69,
     "metadata": {},
     "output_type": "execute_result"
    }
   ],
   "source": [
    "college_dataset =  pd.read_csv(r'../../data/College.csv')\n",
    "college_dataset.head()"
   ]
  },
  {
   "cell_type": "markdown",
   "metadata": {},
   "source": [
    "Before starting our analysis, let's split the data into training and testing sets"
   ]
  },
  {
   "cell_type": "code",
   "execution_count": 70,
   "metadata": {},
   "outputs": [],
   "source": [
    "college_dataset = college_dataset.rename(columns={'Unnamed: 0': 'Name'})\n",
    "college_dataset['Private'] = college_dataset['Private'].map({'Yes': 1, 'No': 0})\n",
    "X_train, X_test, y_train, y_test = train_test_split(college_dataset.drop(['Name', 'Apps'], axis=1), college_dataset['Apps'], \n",
    "                                                    test_size=0.33, random_state=42)"
   ]
  },
  {
   "cell_type": "markdown",
   "metadata": {},
   "source": [
    "#### MULTI LINEAR REGRESSION"
   ]
  },
  {
   "cell_type": "markdown",
   "metadata": {},
   "source": [
    "For starters, let's begin with classic multiple linear regresision model"
   ]
  },
  {
   "cell_type": "code",
   "execution_count": 71,
   "metadata": {},
   "outputs": [
    {
     "name": "stdout",
     "output_type": "stream",
     "text": [
      "Test Error: 1775604.0090834724\n"
     ]
    }
   ],
   "source": [
    "linear_model = LinearRegression(fit_intercept=True)\n",
    "linear_model.fit(X_train, y_train)\n",
    "predictions = linear_model.predict(X_test)\n",
    "print(\"Test Error: \" +str(mean_squared_error(y_test, predictions)))"
   ]
  },
  {
   "cell_type": "markdown",
   "metadata": {},
   "source": [
    "#### RIDGE REGRESSION"
   ]
  },
  {
   "cell_type": "markdown",
   "metadata": {},
   "source": [
    "Let's  now fit a ridge regression"
   ]
  },
  {
   "cell_type": "code",
   "execution_count": 72,
   "metadata": {},
   "outputs": [
    {
     "data": {
      "image/png": "[encoded data removed]",
      "text/plain": [
       "<Figure size 432x288 with 1 Axes>"
      ]
     },
     "metadata": {
      "needs_background": "light"
     },
     "output_type": "display_data"
    }
   ],
   "source": [
    "alphas = 10**np.linspace(10,-2,100)*0.5\n",
    "\n",
    "ridge = Ridge()\n",
    "coefs = []\n",
    "\n",
    "for a in alphas:\n",
    "    ridge.set_params(alpha=a)\n",
    "    ridge.fit(preprocessing.scale(X_train), y_train)\n",
    "    coefs.append(ridge.coef_)\n",
    "\n",
    "ax = plt.gca()\n",
    "ax.plot(alphas, coefs)\n",
    "ax.set_xscale('log')\n",
    "ax.set_xlim(ax.get_xlim()[::-1])\n",
    "plt.axis('tight')\n",
    "plt.xlabel('alpha')\n",
    "plt.ylabel('weights')\n",
    "plt.title('Ridge coefficients as a function of the regularization');"
   ]
  },
  {
   "cell_type": "markdown",
   "metadata": {},
   "source": [
    "The above plot shows that the Ridge coefficients get larger when we decrease alpha."
   ]
  },
  {
   "cell_type": "code",
   "execution_count": 73,
   "metadata": {},
   "outputs": [
    {
     "name": "stdout",
     "output_type": "stream",
     "text": [
      "Test Error: 2223172.5941450484\n"
     ]
    }
   ],
   "source": [
    "ridge_model = RidgeCV(alphas=alphas, fit_intercept=True, cv=None, store_cv_values=True, scoring='neg_mean_squared_error')\n",
    "ridge_model.fit(preprocessing.scale(X_train), y_train)\n",
    "predictions = ridge_model.predict(preprocessing.scale(X_test))\n",
    "print(\"Test Error: \" +str(mean_squared_error(y_test, predictions)))"
   ]
  },
  {
   "cell_type": "code",
   "execution_count": 74,
   "metadata": {},
   "outputs": [
    {
     "name": "stdout",
     "output_type": "stream",
     "text": [
      "0.005\n"
     ]
    },
    {
     "data": {
      "text/plain": [
       "2223172.594795643"
      ]
     },
     "execution_count": 74,
     "metadata": {},
     "output_type": "execute_result"
    }
   ],
   "source": [
    "print(ridge_model.alpha_)\n",
    "ridge.set_params(alpha=ridge_model.alpha_)\n",
    "ridge.fit(preprocessing.scale(X_train), y_train)\n",
    "mean_squared_error(y_test, ridge.predict(preprocessing.scale(X_test)))"
   ]
  },
  {
   "cell_type": "code",
   "execution_count": 75,
   "metadata": {},
   "outputs": [
    {
     "data": {
      "text/plain": [
       "Private        -248.389469\n",
       "Accept         4517.843978\n",
       "Enroll        -1136.030417\n",
       "Top10perc       565.072866\n",
       "Top25perc       -69.055797\n",
       "F.Undergrad     157.795416\n",
       "P.Undergrad      26.167945\n",
       "Outstate       -324.562086\n",
       "Room.Board      168.263003\n",
       "Books            24.301468\n",
       "Personal         50.432413\n",
       "PhD            -147.439672\n",
       "Terminal        -22.018990\n",
       "S.F.Ratio        81.472069\n",
       "perc.alumni      25.410498\n",
       "Expend          330.015821\n",
       "Grad.Rate       130.247590\n",
       "dtype: float64"
      ]
     },
     "execution_count": 75,
     "metadata": {},
     "output_type": "execute_result"
    }
   ],
   "source": [
    "pd.Series(ridge.coef_.flatten(), index=X_train.columns)"
   ]
  },
  {
   "cell_type": "markdown",
   "metadata": {},
   "source": [
    "#### LASSO REGRESSION"
   ]
  },
  {
   "cell_type": "markdown",
   "metadata": {},
   "source": [
    "Let's check Lasso Regression"
   ]
  },
  {
   "cell_type": "code",
   "execution_count": 76,
   "metadata": {},
   "outputs": [
    {
     "data": {
      "image/png": "[encoded data removed]",
      "text/plain": [
       "<Figure size 432x288 with 1 Axes>"
      ]
     },
     "metadata": {
      "needs_background": "light"
     },
     "output_type": "display_data"
    }
   ],
   "source": [
    "coefs = []\n",
    "lasso = Lasso(max_iter=10000)\n",
    "for a in alphas*2:\n",
    "    lasso.set_params(alpha=a)\n",
    "    lasso.fit(preprocessing.scale(X_train), y_train)\n",
    "    coefs.append(lasso.coef_)\n",
    "\n",
    "ax = plt.gca()\n",
    "ax.plot(alphas*2, coefs)\n",
    "ax.set_xscale('log')\n",
    "ax.set_xlim(ax.get_xlim()[::-1])  # reverse axis\n",
    "plt.axis('tight')\n",
    "plt.xlabel('alpha')\n",
    "plt.ylabel('weights')\n",
    "plt.title('Lasso coefficients as a function of the regularization');"
   ]
  },
  {
   "cell_type": "code",
   "execution_count": 77,
   "metadata": {},
   "outputs": [
    {
     "name": "stdout",
     "output_type": "stream",
     "text": [
      "Test Error: 2223323.813680018\n"
     ]
    }
   ],
   "source": [
    "lasso_model = LassoCV(alphas=alphas, fit_intercept=True, cv=None)\n",
    "lasso_model.fit(preprocessing.scale(X_train), y_train)\n",
    "\n",
    "predictions = lasso_model.predict(preprocessing.scale(X_test))\n",
    "print(\"Test Error: \" +str(mean_squared_error(y_test, predictions)))"
   ]
  },
  {
   "cell_type": "code",
   "execution_count": 78,
   "metadata": {},
   "outputs": [
    {
     "data": {
      "text/plain": [
       "0.005"
      ]
     },
     "execution_count": 78,
     "metadata": {},
     "output_type": "execute_result"
    }
   ],
   "source": [
    "lasso_model.alpha_"
   ]
  },
  {
   "cell_type": "code",
   "execution_count": 79,
   "metadata": {},
   "outputs": [
    {
     "data": {
      "text/plain": [
       "2223323.813680018"
      ]
     },
     "execution_count": 79,
     "metadata": {},
     "output_type": "execute_result"
    }
   ],
   "source": [
    "lasso.set_params(alpha=lasso_model.alpha_)\n",
    "lasso.fit(preprocessing.scale(X_train), y_train)\n",
    "mean_squared_error(y_test, lasso.predict(preprocessing.scale(X_test)))"
   ]
  },
  {
   "cell_type": "code",
   "execution_count": 80,
   "metadata": {},
   "outputs": [
    {
     "data": {
      "text/plain": [
       "Private        -248.396346\n",
       "Accept         4518.167412\n",
       "Enroll        -1136.334831\n",
       "Top10perc       565.091045\n",
       "Top25perc       -69.056526\n",
       "F.Undergrad     157.784908\n",
       "P.Undergrad      26.174730\n",
       "Outstate       -324.567771\n",
       "Room.Board      168.227067\n",
       "Books            24.296441\n",
       "Personal         50.439832\n",
       "PhD            -147.440770\n",
       "Terminal        -22.007771\n",
       "S.F.Ratio        81.459956\n",
       "perc.alumni      25.417236\n",
       "Expend          329.999089\n",
       "Grad.Rate       130.224720\n",
       "dtype: float64"
      ]
     },
     "execution_count": 80,
     "metadata": {},
     "output_type": "execute_result"
    }
   ],
   "source": [
    "pd.Series(lasso.coef_, index=X_train.columns)"
   ]
  },
  {
   "cell_type": "markdown",
   "metadata": {},
   "source": [
    "#### PCR and PLS"
   ]
  },
  {
   "cell_type": "code",
   "execution_count": 89,
   "metadata": {},
   "outputs": [],
   "source": [
    "def fit_pca(X_train, X_test, y_train, y_test, comps_req=1):\n",
    "    pca = PCA(n_components=comps_req)\n",
    "    train_scores = pca.fit_transform(preprocessing.scale(X_train))\n",
    "    test_scores = pca.fit_transform(preprocessing.scale(X_test))\n",
    "    model = LinearRegression(fit_intercept=True)\n",
    "    model.fit(train_scores, y_train)\n",
    "    preds = model.predict(test_scores)\n",
    "    test_MSE = mean_squared_error(preds, y_test)\n",
    "    return test_MSE \n",
    "\n",
    "def fit_pls(X_train, X_test, y_train, y_test, comps_req=1):\n",
    "    pca = PCA(n_components=comps_req)\n",
    "    train_scores = pca.fit_transform(preprocessing.scale(X_train))\n",
    "    test_scores = pca.fit_transform(preprocessing.scale(X_test))\n",
    "    model = LinearRegression(fit_intercept=True)\n",
    "    model.fit(train_scores, y_train)\n",
    "    preds = model.predict(test_scores)\n",
    "    test_MSE = mean_squared_error(preds, y_test)\n",
    "    return test_MSE \n",
    "\n",
    "def fit_PCR_PLS(X_train, y_train, X_test, y_test, total_comp, model_type = 'PCR'):\n",
    "    funct_dict = {'PCR': fit_pca, 'PLS':fit_pls}\n",
    "    test_MSE = {}\n",
    "    for comp in range(1,len(X_train.columns)):\n",
    "        test_MSE[comp] = funct_dict[model_type](X_train, X_test, y_train, y_test, comp)\n",
    "    return test_MSE\n",
    "\n",
    "def fit_PCR_PLS_CV(X_train, y_train, X_test, y_test, total_comp, model_type = 'PCR'):\n",
    "    funct_dict = {'PCR': fit_pca, 'PLS':fit_pls}\n",
    "    val_MSE = {}\n",
    "    y_train = y_train.reset_index()\n",
    "    X_test = X_test.reset_index()\n",
    "    y_test = y_test.reset_index()\n",
    "    X_train = X_train.reset_index()\n",
    "    for comp in range(1,len(X_train.columns)):\n",
    "        print(comp)\n",
    "        for train_index, test_index in LeaveOneOut().split(X_train):\n",
    "            X, X_CV = X_train[train_index], X_train[test_index]\n",
    "            Y, Y_CV = y_train[train_index], y_train[test_index]\n",
    "            mse += funct_dict[model_type](X, X_CV, Y, Y_CV, comp)\n",
    "        val_MSE[comp] = mse/len(X_train)\n",
    "    return val_MSE\n",
    "        \n",
    "def plot_pca_results (mse_comp_dictn, title, xlab, ylab):\n",
    "    x,y = zip(*(sorted(mse_comp_dictn.items())))\n",
    "    fig,ax = plt.subplots()\n",
    "    plt.plot(x, y, color='r')\n",
    "    plt.grid()\n",
    "    ax.set_xlabel(xlab)\n",
    "    ax.set_ylabel(ylab)\n",
    "    ax.set_title(title)"
   ]
  },
  {
   "cell_type": "code",
   "execution_count": 90,
   "metadata": {},
   "outputs": [],
   "source": [
    "test_mse = fit_PCR_PLS(X_train, y_train, X_test, y_test, len(X_train.columns), model_type = 'PCR')\n",
    "#validation_mse = fit_PCR_PLS_CV(X_train, y_train, X_test, y_test, len(X_train.columns), model_type = 'PCR')"
   ]
  },
  {
   "cell_type": "code",
   "execution_count": 91,
   "metadata": {},
   "outputs": [
    {
     "data": {
      "image/png": "[encoded data removed]",
      "text/plain": [
       "<Figure size 432x288 with 1 Axes>"
      ]
     },
     "metadata": {
      "needs_background": "light"
     },
     "output_type": "display_data"
    }
   ],
   "source": [
    "plot_pca_results(test_mse, 'TEST MSE', 'PCA comp', 'TEST MSE')"
   ]
  },
  {
   "cell_type": "code",
   "execution_count": 92,
   "metadata": {},
   "outputs": [
    {
     "ename": "NameError",
     "evalue": "name 'validation_mse' is not defined",
     "output_type": "error",
     "traceback": [
      "\u001b[1;31m---------------------------------------------------------------------------\u001b[0m",
      "\u001b[1;31mNameError\u001b[0m                                 Traceback (most recent call last)",
      "\u001b[1;32m<ipython-input-92-629f315a89b9>\u001b[0m in \u001b[0;36m<module>\u001b[1;34m\u001b[0m\n\u001b[1;32m----> 1\u001b[1;33m \u001b[0mplot_pca_results\u001b[0m\u001b[1;33m(\u001b[0m\u001b[0mvalidation_mse\u001b[0m\u001b[1;33m,\u001b[0m \u001b[1;34m'VALIDATION MSE'\u001b[0m\u001b[1;33m,\u001b[0m \u001b[1;34m'PCA comp'\u001b[0m\u001b[1;33m,\u001b[0m \u001b[1;34m'VALIDATION MSE'\u001b[0m\u001b[1;33m)\u001b[0m\u001b[1;33m\u001b[0m\u001b[1;33m\u001b[0m\u001b[0m\n\u001b[0m",
      "\u001b[1;31mNameError\u001b[0m: name 'validation_mse' is not defined"
     ]
    }
   ],
   "source": [
    "plot_pca_results(validation_mse, 'VALIDATION MSE', 'PCA comp', 'VALIDATION MSE')"
   ]
  },
  {
   "cell_type": "code",
   "execution_count": 94,
   "metadata": {},
   "outputs": [],
   "source": [
    "test_mse_pls = fit_PCR_PLS(X_train, y_train, X_test, y_test, len(X_train.columns), model_type = 'PLS')\n",
    "#validation_mse_pls = fit_PCR_PLS_CV(X_train, y_train, X_test, y_test, len(X_train.columns), model_type = 'PCR')"
   ]
  },
  {
   "cell_type": "code",
   "execution_count": 95,
   "metadata": {},
   "outputs": [
    {
     "data": {
      "image/png": "[encoded data removed]",
      "text/plain": [
       "<Figure size 432x288 with 1 Axes>"
      ]
     },
     "metadata": {
      "needs_background": "light"
     },
     "output_type": "display_data"
    }
   ],
   "source": [
    "plot_pca_results(test_mse_pls, 'TEST MSE', 'PCA comp', 'TEST MSE')"
   ]
  },
  {
   "cell_type": "code",
   "execution_count": 96,
   "metadata": {},
   "outputs": [
    {
     "ename": "NameError",
     "evalue": "name 'validation_mse_pls' is not defined",
     "output_type": "error",
     "traceback": [
      "\u001b[1;31m---------------------------------------------------------------------------\u001b[0m",
      "\u001b[1;31mNameError\u001b[0m                                 Traceback (most recent call last)",
      "\u001b[1;32m<ipython-input-96-2badf174005b>\u001b[0m in \u001b[0;36m<module>\u001b[1;34m\u001b[0m\n\u001b[1;32m----> 1\u001b[1;33m \u001b[0mplot_pca_results\u001b[0m\u001b[1;33m(\u001b[0m\u001b[0mvalidation_mse_pls\u001b[0m\u001b[1;33m,\u001b[0m \u001b[1;34m'VALIDATION MSE'\u001b[0m\u001b[1;33m,\u001b[0m \u001b[1;34m'PCA comp'\u001b[0m\u001b[1;33m,\u001b[0m \u001b[1;34m'VALIDATION MSE'\u001b[0m\u001b[1;33m)\u001b[0m\u001b[1;33m\u001b[0m\u001b[1;33m\u001b[0m\u001b[0m\n\u001b[0m",
      "\u001b[1;31mNameError\u001b[0m: name 'validation_mse_pls' is not defined"
     ]
    }
   ],
   "source": [
    "plot_pca_results(validation_mse_pls, 'VALIDATION MSE', 'PCA comp', 'VALIDATION MSE')"
   ]
  },
  {
   "cell_type": "code",
   "execution_count": null,
   "metadata": {},
   "outputs": [],
   "source": []
  }
 ],
 "metadata": {
  "kernelspec": {
   "display_name": "Python 3",
   "language": "python",
   "name": "python3"
  },
  "language_info": {
   "codemirror_mode": {
    "name": "ipython",
    "version": 3
   },
   "file_extension": ".py",
   "mimetype": "text/x-python",
   "name": "python",
   "nbconvert_exporter": "python",
   "pygments_lexer": "ipython3",
   "version": "3.8.3"
  }
 },
 "nbformat": 4,
 "nbformat_minor": 2
}
