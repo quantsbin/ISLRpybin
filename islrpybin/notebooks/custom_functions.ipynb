{
 "cells": [
  {
   "cell_type": "code",
   "execution_count": null,
   "metadata": {},
   "outputs": [],
   "source": [
    "# Let's import libraries required for this chapter\n",
    "#Conventional Package\n",
    "import pandas\n",
    "import seaborn as sns\n",
    "import numpy as np\n",
    "import warnings\n",
    "import itertools\n",
    "from itertools import product\n",
    "#Plot related package\n",
    "import plotly\n",
    "import plotly.graph_objs as go\n",
    "import plotly.express as px\n",
    "import matplotlib.pyplot as plt\n",
    "from plotly.subplots import make_subplots\n",
    "#ML related packages\n",
    "import statsmodels.api as sm\n",
    "import scipy.stats as stats\n",
    "import statsmodels.formula.api as smf\n",
    "from statsmodels.nonparametric.smoothers_lowess import lowess\n",
    "from statsmodels.graphics.regressionplots import plot_leverage_resid2\n",
    "\n",
    "plotly.offline.init_notebook_mode()\n",
    "warnings.filterwarnings('ignore')"
   ]
  },
  {
   "cell_type": "code",
   "execution_count": null,
   "metadata": {},
   "outputs": [],
   "source": [
    "def plot_resid_diagnostics(model):\n",
    "    fig, axes = plt.subplots(nrows=2, ncols=2, figsize=(20,20))\n",
    "    plt.style.use('seaborn')\n",
    "    #residual vs fitted\n",
    "    residuals = model.resid\n",
    "    fitted = model.fittedvalues\n",
    "    smoothed = lowess(residuals,fitted)\n",
    "    axes[0,0].scatter(fitted, residuals, edgecolors = 'k', facecolors = 'none')\n",
    "    axes[0,0].plot(smoothed[:,0],smoothed[:,1],color = 'r')\n",
    "    axes[0,0].set_ylabel('Residuals')\n",
    "    axes[0,0].set_xlabel('Fitted Values')\n",
    "    axes[0,0].set_title('Residuals vs. Fitted')\n",
    "    axes[0,0].plot([min(fitted),max(fitted)],[0,0],color = 'k',linestyle = ':', alpha = .3)\n",
    "    #leverage vs residual : influence plot\n",
    "    plot_leverage_resid2(model, ax = axes[0,1])\n",
    "    #qqplot\n",
    "    sm.qqplot(residuals, dist=stats.t, fit=True, line='45',\n",
    "            ax=axes[1, 0], c='#4C72B0')\n",
    "    axes[1, 0].set_title('Normal Q-Q')\n",
    "    # The scale-location plot.\n",
    "    axes[1,1].scatter(fitted, model.resid_pearson)\n",
    "    axes[1, 1].axhline(y=0, color='grey', linestyle='dashed')\n",
    "    axes[1, 1].set_xlabel('Fitted values')\n",
    "    axes[1, 1].set_ylabel('Sqrt(|standardized residuals|)')\n",
    "    axes[1, 1].set_title('Scale-Location')\n",
    "    #plt.tight_layout()\n",
    "    plt.show()"
   ]
  }
 ],
 "metadata": {
  "kernelspec": {
   "display_name": "Python 3",
   "language": "python",
   "name": "python3"
  },
  "language_info": {
   "codemirror_mode": {
    "name": "ipython",
    "version": 3
   },
   "file_extension": ".py",
   "mimetype": "text/x-python",
   "name": "python",
   "nbconvert_exporter": "python",
   "pygments_lexer": "ipython3",
   "version": "3.7.1"
  }
 },
 "nbformat": 4,
 "nbformat_minor": 2
}
